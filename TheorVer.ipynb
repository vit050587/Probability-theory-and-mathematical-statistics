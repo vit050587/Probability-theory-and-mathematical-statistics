{
  "nbformat": 4,
  "nbformat_minor": 0,
  "metadata": {
    "colab": {
      "name": "TheorVer.ipynb",
      "provenance": [],
      "toc_visible": true,
      "authorship_tag": "ABX9TyPOAyOaXwtcbMv/XmYKFo3p",
      "include_colab_link": true
    },
    "kernelspec": {
      "name": "python3",
      "display_name": "Python 3"
    },
    "language_info": {
      "name": "python"
    }
  },
  "cells": [
    {
      "cell_type": "markdown",
      "metadata": {
        "id": "view-in-github",
        "colab_type": "text"
      },
      "source": [
        "<a href=\"https://colab.research.google.com/github/vit050587/Probability-theory-and-mathematical-statistics/blob/master/TheorVer.ipynb\" target=\"_parent\"><img src=\"https://colab.research.google.com/assets/colab-badge.svg\" alt=\"Open In Colab\"/></a>"
      ]
    },
    {
      "cell_type": "markdown",
      "source": [
        "# Урок 1"
      ],
      "metadata": {
        "id": "FKMTOQVU59or"
      }
    },
    {
      "cell_type": "markdown",
      "source": [
        "## Задание 1"
      ],
      "metadata": {
        "id": "QtsHF_HD6Cgi"
      }
    },
    {
      "cell_type": "markdown",
      "source": [
        "Из колоды в 52 карты извлекаются случайным образом 4 карты. a) Найти вероятность того, что все карты – крести. б) Найти вероятность, что среди 4-х карт окажется хотя бы один туз."
      ],
      "metadata": {
        "id": "j62h31ir6RWL"
      }
    },
    {
      "cell_type": "markdown",
      "source": [
        "$$C_n^k = \\frac{n!}{k!(n - k)!}$$"
      ],
      "metadata": {
        "id": "occ6DAZG4wq7"
      }
    },
    {
      "cell_type": "markdown",
      "source": [
        "$$C_{52}^4 = \\frac{52!}{4!(52 - 4)!} = 270725$$"
      ],
      "metadata": {
        "id": "cwqIJaOqtxoK"
      }
    },
    {
      "cell_type": "code",
      "source": [
        "from math import factorial\n",
        "import numpy as np"
      ],
      "metadata": {
        "id": "KWjPWNfVuBX7"
      },
      "execution_count": 8,
      "outputs": []
    },
    {
      "cell_type": "code",
      "source": [
        "def combinations(n, k):\n",
        "    return int(factorial(n) / (factorial(k) * factorial(n - k)))"
      ],
      "metadata": {
        "id": "AzU_qgW5vXF6"
      },
      "execution_count": 9,
      "outputs": []
    },
    {
      "cell_type": "code",
      "source": [
        "combinations(52, 4) #число способов - все 4 карты (любые) вытянутые из колоды"
      ],
      "metadata": {
        "colab": {
          "base_uri": "https://localhost:8080/"
        },
        "id": "zuG7IB3Xt11z",
        "outputId": "a9122846-e1a2-43b6-f5ee-19b73be12ef0"
      },
      "execution_count": 10,
      "outputs": [
        {
          "output_type": "execute_result",
          "data": {
            "text/plain": [
              "270725"
            ]
          },
          "metadata": {},
          "execution_count": 10
        }
      ]
    },
    {
      "cell_type": "code",
      "source": [
        "combinations(13, 4) #число способов - все вытянутые карты крести"
      ],
      "metadata": {
        "colab": {
          "base_uri": "https://localhost:8080/"
        },
        "id": "P_tdL2GjwEK7",
        "outputId": "df3a6d20-48d6-49f7-9a2a-b69ccf28464b"
      },
      "execution_count": 11,
      "outputs": [
        {
          "output_type": "execute_result",
          "data": {
            "text/plain": [
              "715"
            ]
          },
          "metadata": {},
          "execution_count": 11
        }
      ]
    },
    {
      "cell_type": "code",
      "source": [
        "combinations(4, 4) #число способов - все вытянутые карты тузы"
      ],
      "metadata": {
        "colab": {
          "base_uri": "https://localhost:8080/"
        },
        "id": "GVP-cGJCwCpl",
        "outputId": "7f82a83d-649b-4d78-82de-84eef0f8c002"
      },
      "execution_count": 12,
      "outputs": [
        {
          "output_type": "execute_result",
          "data": {
            "text/plain": [
              "1"
            ]
          },
          "metadata": {},
          "execution_count": 12
        }
      ]
    },
    {
      "cell_type": "markdown",
      "source": [
        "По формуле появления зависимых событий:\n",
        "\n",
        "Ответ а)\n",
        "$$P(A*B) = P(A) * P(B)$$\n",
        "\n",
        "$$P(A) = \\frac{13}{52}*\\frac{12}{51}*\\frac{11}{50}*\\frac{10}{49}=0,0026$$\n",
        "\n",
        "Ответ б)\n",
        "\n",
        "$$P(A) = \\frac{4}{52}*\\frac{3}{51}*\\frac{2}{50}*\\frac{1}{49}=0,0000036$$"
      ],
      "metadata": {
        "id": "FTovMvs5rBef"
      }
    },
    {
      "cell_type": "markdown",
      "source": [
        "## Задание 2"
      ],
      "metadata": {
        "id": "G1iCxnXQ6G_b"
      }
    },
    {
      "cell_type": "markdown",
      "source": [
        "На входной двери подъезда установлен кодовый замок, содержащий десять кнопок с цифрами от 0 до 9. Код содержит три цифры, которые нужно нажать одновременно. Какова вероятность того, что человек, не знающий код, откроет дверь с первой попытки?"
      ],
      "metadata": {
        "id": "HOpY-h4J6SxL"
      }
    },
    {
      "cell_type": "code",
      "source": [
        "combinations(10, 3) #число способов разных комбинаций кодов"
      ],
      "metadata": {
        "colab": {
          "base_uri": "https://localhost:8080/"
        },
        "id": "Xr9h6-YHxYQd",
        "outputId": "96f9e470-f574-43c3-86c9-52419dd618eb"
      },
      "execution_count": 13,
      "outputs": [
        {
          "output_type": "execute_result",
          "data": {
            "text/plain": [
              "120"
            ]
          },
          "metadata": {},
          "execution_count": 13
        }
      ]
    },
    {
      "cell_type": "markdown",
      "source": [
        "$$P(A) = \\frac{3}{10}*\\frac{2}{9}*\\frac{1}{8}=0,0083$$"
      ],
      "metadata": {
        "id": "fZyDoKVkcDe2"
      }
    },
    {
      "cell_type": "markdown",
      "source": [
        "## Задание 3"
      ],
      "metadata": {
        "id": "LIIGFkrZ6JOL"
      }
    },
    {
      "cell_type": "markdown",
      "source": [
        "В ящике имеется 15 деталей, из которых 9 окрашены. Рабочий случайным образом извлекает 3 детали. Какова вероятность того, что все извлеченные детали окрашены?"
      ],
      "metadata": {
        "id": "PYdM49Zr6VOT"
      }
    },
    {
      "cell_type": "code",
      "source": [
        "combinations(15, 3)"
      ],
      "metadata": {
        "colab": {
          "base_uri": "https://localhost:8080/"
        },
        "id": "sV0l1wtMyI0r",
        "outputId": "fe72a459-f791-427c-925c-7cf8ae1ea21c"
      },
      "execution_count": 19,
      "outputs": [
        {
          "output_type": "execute_result",
          "data": {
            "text/plain": [
              "455"
            ]
          },
          "metadata": {},
          "execution_count": 19
        }
      ]
    },
    {
      "cell_type": "code",
      "source": [
        "combinations(9, 3)"
      ],
      "metadata": {
        "colab": {
          "base_uri": "https://localhost:8080/"
        },
        "id": "L-3UsuPqyTvx",
        "outputId": "82c0c7bf-17cf-4a12-d5e6-318118152354"
      },
      "execution_count": 20,
      "outputs": [
        {
          "output_type": "execute_result",
          "data": {
            "text/plain": [
              "84"
            ]
          },
          "metadata": {},
          "execution_count": 20
        }
      ]
    },
    {
      "cell_type": "code",
      "source": [
        "455 + 84"
      ],
      "metadata": {
        "colab": {
          "base_uri": "https://localhost:8080/"
        },
        "id": "EGKq4Qu_y4YG",
        "outputId": "71081ab8-2caf-4fd8-917a-6f261fcb9373"
      },
      "execution_count": 16,
      "outputs": [
        {
          "output_type": "execute_result",
          "data": {
            "text/plain": [
              "539"
            ]
          },
          "metadata": {},
          "execution_count": 16
        }
      ]
    },
    {
      "cell_type": "markdown",
      "source": [
        "$$P(A) = \\frac{9}{15}*\\frac{8}{14}*\\frac{7}{13}=\\frac{12}{65}=0,1846$$"
      ],
      "metadata": {
        "id": "5iH7LAG9fg8E"
      }
    },
    {
      "cell_type": "markdown",
      "source": [
        "## Задание 4"
      ],
      "metadata": {
        "id": "6jjpObzM6LWi"
      }
    },
    {
      "cell_type": "markdown",
      "source": [
        "В лотерее 100 билетов. Из них 2 выигрышных. Какова вероятность того, что 2 приобретенных билета окажутся выигрышными?"
      ],
      "metadata": {
        "id": "4GBM0KfC6ZnD"
      }
    },
    {
      "cell_type": "code",
      "source": [
        "combinations(100, 2)"
      ],
      "metadata": {
        "colab": {
          "base_uri": "https://localhost:8080/"
        },
        "id": "1Ih-i7XEzSYL",
        "outputId": "c4f015f5-fe50-4650-b53a-3f87a26ec732"
      },
      "execution_count": 21,
      "outputs": [
        {
          "output_type": "execute_result",
          "data": {
            "text/plain": [
              "4950"
            ]
          },
          "metadata": {},
          "execution_count": 21
        }
      ]
    },
    {
      "cell_type": "code",
      "source": [
        "combinations(2, 2)"
      ],
      "metadata": {
        "colab": {
          "base_uri": "https://localhost:8080/"
        },
        "id": "1KEUvGrozWya",
        "outputId": "1090fa00-5011-40f9-e65a-3ce09b11730a"
      },
      "execution_count": 22,
      "outputs": [
        {
          "output_type": "execute_result",
          "data": {
            "text/plain": [
              "1"
            ]
          },
          "metadata": {},
          "execution_count": 22
        }
      ]
    },
    {
      "cell_type": "code",
      "source": [
        "4950 + 1"
      ],
      "metadata": {
        "colab": {
          "base_uri": "https://localhost:8080/"
        },
        "id": "G_tZM1ybzbWB",
        "outputId": "63634480-b22c-4ee2-ff14-9c3e53ff00b7"
      },
      "execution_count": 23,
      "outputs": [
        {
          "output_type": "execute_result",
          "data": {
            "text/plain": [
              "4951"
            ]
          },
          "metadata": {},
          "execution_count": 23
        }
      ]
    },
    {
      "cell_type": "markdown",
      "source": [
        "$$P(A) = \\frac{2}{100}*\\frac{1}{99}=\\frac{1}{4950}$$"
      ],
      "metadata": {
        "id": "bvaDws-Ef_MV"
      }
    },
    {
      "cell_type": "markdown",
      "source": [
        "## Задание 5"
      ],
      "metadata": {
        "id": "UL18JEoq6NHD"
      }
    },
    {
      "cell_type": "markdown",
      "source": [
        "На соревновании по биатлону один из трех спортсменов стреляет и попадает в мишень. Вероятность попадания для первого спортсмена равна 0.9, для второго — 0.8, для третьего — 0.6. Найти вероятность того, что выстрел произведен: a). первым спортсменом б). вторым спортсменом в). третьим спортсменом."
      ],
      "metadata": {
        "id": "OpnilTip6aYD"
      }
    },
    {
      "cell_type": "markdown",
      "source": [
        "Событием  A  будем считать попадание в мишень, а событиями  B1,B2  и  B3  — что выстрел совершил первый, второй или третий спортсмен:\n",
        "\n",
        "$$P(A\\:|\\:B_1) = 0.9$$\n",
        "\n",
        "$$P(A\\:|\\:B_2) = 0.8$$\n",
        "\n",
        "$$P(A\\:|\\:B_3) = 0.6$$"
      ],
      "metadata": {
        "id": "maP6z2XXz3Gj"
      }
    },
    {
      "cell_type": "markdown",
      "source": [
        "а)\n",
        "$$P(B_1\\:|\\:A) = \\frac{P(B_1) \\cdot P(A\\:|\\:B_1)}{P(A)}$$\n",
        "\n",
        "Априорная вероятность 1/3\n",
        "\n",
        "$$P(B_1\\:|\\:A) = \\frac{\\frac{1}{3} \\cdot 0.9}{\\frac{1}{3} \\cdot 0.9 + \\frac{1}{3} \\cdot 0.8 + \\frac{1}{3} \\cdot 0.6} = \\frac{9}{23}$$"
      ],
      "metadata": {
        "id": "S6c1utu50QT_"
      }
    },
    {
      "cell_type": "markdown",
      "source": [
        "б)\n",
        "\n",
        "$$P(B_2\\:|\\:A) = \\frac{\\frac{1}{3} \\cdot 0.8}{\\frac{1}{3} \\cdot 0.9 + \\frac{1}{3} \\cdot 0.8 + \\frac{1}{3} \\cdot 0.6} = \\frac{8}{23}$$"
      ],
      "metadata": {
        "id": "ZyqmN-xv3CQN"
      }
    },
    {
      "cell_type": "markdown",
      "source": [
        "в)\n",
        "\n",
        "$$P(B_3\\:|\\:A) = \\frac{\\frac{1}{3} \\cdot 0.6}{\\frac{1}{3} \\cdot 0.9 + \\frac{1}{3} \\cdot 0.8 + \\frac{1}{3} \\cdot 0.6} = \\frac{6}{23}$$"
      ],
      "metadata": {
        "id": "e9oe9Ztv3Wcn"
      }
    }
  ]
}