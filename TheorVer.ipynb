{
  "nbformat": 4,
  "nbformat_minor": 0,
  "metadata": {
    "colab": {
      "name": "TheorVer.ipynb",
      "provenance": [],
      "toc_visible": true,
      "authorship_tag": "ABX9TyMe7sRLSxclQys34y0EbZhL",
      "include_colab_link": true
    },
    "kernelspec": {
      "name": "python3",
      "display_name": "Python 3"
    },
    "language_info": {
      "name": "python"
    }
  },
  "cells": [
    {
      "cell_type": "markdown",
      "metadata": {
        "id": "view-in-github",
        "colab_type": "text"
      },
      "source": [
        "<a href=\"https://colab.research.google.com/github/vit050587/Probability-theory-and-mathematical-statistics/blob/master/TheorVer.ipynb\" target=\"_parent\"><img src=\"https://colab.research.google.com/assets/colab-badge.svg\" alt=\"Open In Colab\"/></a>"
      ]
    },
    {
      "cell_type": "markdown",
      "source": [
        "# Урок 1"
      ],
      "metadata": {
        "id": "FKMTOQVU59or"
      }
    },
    {
      "cell_type": "markdown",
      "source": [
        "## Задание 1"
      ],
      "metadata": {
        "id": "QtsHF_HD6Cgi"
      }
    },
    {
      "cell_type": "markdown",
      "source": [
        "Из колоды в 52 карты извлекаются случайным образом 4 карты. a) Найти вероятность того, что все карты – крести. б) Найти вероятность, что среди 4-х карт окажется хотя бы один туз."
      ],
      "metadata": {
        "id": "j62h31ir6RWL"
      }
    },
    {
      "cell_type": "markdown",
      "source": [
        "## Задание 2"
      ],
      "metadata": {
        "id": "G1iCxnXQ6G_b"
      }
    },
    {
      "cell_type": "markdown",
      "source": [
        "На входной двери подъезда установлен кодовый замок, содержащий десять кнопок с цифрами от 0 до 9. Код содержит три цифры, которые нужно нажать одновременно. Какова вероятность того, что человек, не знающий код, откроет дверь с первой попытки?"
      ],
      "metadata": {
        "id": "HOpY-h4J6SxL"
      }
    },
    {
      "cell_type": "markdown",
      "source": [
        "## Задание 3"
      ],
      "metadata": {
        "id": "LIIGFkrZ6JOL"
      }
    },
    {
      "cell_type": "markdown",
      "source": [
        "В ящике имеется 15 деталей, из которых 9 окрашены. Рабочий случайным образом извлекает 3 детали. Какова вероятность того, что все извлеченные детали окрашены?"
      ],
      "metadata": {
        "id": "PYdM49Zr6VOT"
      }
    },
    {
      "cell_type": "markdown",
      "source": [
        "## Задание 4"
      ],
      "metadata": {
        "id": "6jjpObzM6LWi"
      }
    },
    {
      "cell_type": "markdown",
      "source": [
        "В лотерее 100 билетов. Из них 2 выигрышных. Какова вероятность того, что 2 приобретенных билета окажутся выигрышными?"
      ],
      "metadata": {
        "id": "4GBM0KfC6ZnD"
      }
    },
    {
      "cell_type": "markdown",
      "source": [
        "## Задание 5"
      ],
      "metadata": {
        "id": "UL18JEoq6NHD"
      }
    },
    {
      "cell_type": "markdown",
      "source": [
        "На соревновании по биатлону один из трех спортсменов стреляет и попадает в мишень. Вероятность попадания для первого спортсмена равна 0.9, для второго — 0.8, для третьего — 0.6. Найти вероятность того, что выстрел произведен: a). первым спортсменом б). вторым спортсменом в). третьим спортсменом."
      ],
      "metadata": {
        "id": "OpnilTip6aYD"
      }
    }
  ]
}