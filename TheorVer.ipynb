{
  "nbformat": 4,
  "nbformat_minor": 0,
  "metadata": {
    "colab": {
      "name": "TheorVer.ipynb",
      "provenance": [],
      "toc_visible": true,
      "authorship_tag": "ABX9TyPBkNchfwKWnl+wP7ZXnXb1",
      "include_colab_link": true
    },
    "kernelspec": {
      "name": "python3",
      "display_name": "Python 3"
    },
    "language_info": {
      "name": "python"
    }
  },
  "cells": [
    {
      "cell_type": "markdown",
      "metadata": {
        "id": "view-in-github",
        "colab_type": "text"
      },
      "source": [
        "<a href=\"https://colab.research.google.com/github/vit050587/Probability-theory-and-mathematical-statistics/blob/master/TheorVer.ipynb\" target=\"_parent\"><img src=\"https://colab.research.google.com/assets/colab-badge.svg\" alt=\"Open In Colab\"/></a>"
      ]
    },
    {
      "cell_type": "markdown",
      "source": [
        "# Урок 1"
      ],
      "metadata": {
        "id": "FKMTOQVU59or"
      }
    },
    {
      "cell_type": "markdown",
      "source": [
        "## Задание 1"
      ],
      "metadata": {
        "id": "QtsHF_HD6Cgi"
      }
    },
    {
      "cell_type": "markdown",
      "source": [
        "Из колоды в 52 карты извлекаются случайным образом 4 карты. a) Найти вероятность того, что все карты – крести. б) Найти вероятность, что среди 4-х карт окажется хотя бы один туз."
      ],
      "metadata": {
        "id": "j62h31ir6RWL"
      }
    },
    {
      "cell_type": "markdown",
      "source": [
        "$$C_n^k = \\frac{n!}{k!(n - k)!}$$"
      ],
      "metadata": {
        "id": "occ6DAZG4wq7"
      }
    },
    {
      "cell_type": "markdown",
      "source": [
        "$$C_{52}^4 = \\frac{52!}{4!(52 - 4)!} = 270725$$"
      ],
      "metadata": {
        "id": "cwqIJaOqtxoK"
      }
    },
    {
      "cell_type": "code",
      "source": [
        "from math import factorial\n",
        "import numpy as np"
      ],
      "metadata": {
        "id": "KWjPWNfVuBX7"
      },
      "execution_count": 1,
      "outputs": []
    },
    {
      "cell_type": "code",
      "source": [
        "def combinations(n, k):\n",
        "    return int(factorial(n) / (factorial(k) * factorial(n - k)))"
      ],
      "metadata": {
        "id": "AzU_qgW5vXF6"
      },
      "execution_count": 2,
      "outputs": []
    },
    {
      "cell_type": "code",
      "source": [
        "combinations(52, 4) #число способов - все 4 карты (любые) вытянутые из колоды"
      ],
      "metadata": {
        "colab": {
          "base_uri": "https://localhost:8080/"
        },
        "id": "zuG7IB3Xt11z",
        "outputId": "fb1ad008-236f-483f-c0bc-b995ec92ce4c"
      },
      "execution_count": 3,
      "outputs": [
        {
          "output_type": "execute_result",
          "data": {
            "text/plain": [
              "270725"
            ]
          },
          "metadata": {},
          "execution_count": 3
        }
      ]
    },
    {
      "cell_type": "code",
      "source": [
        "combinations(13, 4) #число способов - все вытянутые карты крести"
      ],
      "metadata": {
        "colab": {
          "base_uri": "https://localhost:8080/"
        },
        "id": "P_tdL2GjwEK7",
        "outputId": "487c9862-7ce3-4bbc-a30e-e3b74550911a"
      },
      "execution_count": 4,
      "outputs": [
        {
          "output_type": "execute_result",
          "data": {
            "text/plain": [
              "715"
            ]
          },
          "metadata": {},
          "execution_count": 4
        }
      ]
    },
    {
      "cell_type": "code",
      "source": [
        "combinations(4, 4) #число способов - все вытянутые карты тузы"
      ],
      "metadata": {
        "colab": {
          "base_uri": "https://localhost:8080/"
        },
        "id": "GVP-cGJCwCpl",
        "outputId": "fa6ee0ea-4418-445e-ba41-bd653f49b901"
      },
      "execution_count": 5,
      "outputs": [
        {
          "output_type": "execute_result",
          "data": {
            "text/plain": [
              "1"
            ]
          },
          "metadata": {},
          "execution_count": 5
        }
      ]
    },
    {
      "cell_type": "markdown",
      "source": [
        "По формуле появления зависимых событий:\n",
        "\n",
        "Ответ а)\n",
        "$$P(A*B) = P(A) * P(B)$$\n",
        "\n",
        "$$P(A) = \\frac{13}{52}*\\frac{12}{51}*\\frac{11}{50}*\\frac{10}{49}=0,0026$$\n",
        "\n",
        "Ответ б)\n",
        "\n",
        "$$P(A) = \\frac{4}{52}*\\frac{3}{51}*\\frac{2}{50}*\\frac{1}{49}=0,0000036$$"
      ],
      "metadata": {
        "id": "FTovMvs5rBef"
      }
    },
    {
      "cell_type": "markdown",
      "source": [
        "## Задание 2"
      ],
      "metadata": {
        "id": "G1iCxnXQ6G_b"
      }
    },
    {
      "cell_type": "markdown",
      "source": [
        "На входной двери подъезда установлен кодовый замок, содержащий десять кнопок с цифрами от 0 до 9. Код содержит три цифры, которые нужно нажать одновременно. Какова вероятность того, что человек, не знающий код, откроет дверь с первой попытки?"
      ],
      "metadata": {
        "id": "HOpY-h4J6SxL"
      }
    },
    {
      "cell_type": "code",
      "source": [
        "combinations(10, 3) #число способов разных комбинаций кодов"
      ],
      "metadata": {
        "colab": {
          "base_uri": "https://localhost:8080/"
        },
        "id": "Xr9h6-YHxYQd",
        "outputId": "3a9d6916-1f84-4067-f929-1a05d817ed86"
      },
      "execution_count": 6,
      "outputs": [
        {
          "output_type": "execute_result",
          "data": {
            "text/plain": [
              "120"
            ]
          },
          "metadata": {},
          "execution_count": 6
        }
      ]
    },
    {
      "cell_type": "markdown",
      "source": [
        "$$P(A) = \\frac{3}{10}*\\frac{2}{9}*\\frac{1}{8}=0,0083$$"
      ],
      "metadata": {
        "id": "fZyDoKVkcDe2"
      }
    },
    {
      "cell_type": "markdown",
      "source": [
        "## Задание 3"
      ],
      "metadata": {
        "id": "LIIGFkrZ6JOL"
      }
    },
    {
      "cell_type": "markdown",
      "source": [
        "В ящике имеется 15 деталей, из которых 9 окрашены. Рабочий случайным образом извлекает 3 детали. Какова вероятность того, что все извлеченные детали окрашены?"
      ],
      "metadata": {
        "id": "PYdM49Zr6VOT"
      }
    },
    {
      "cell_type": "code",
      "source": [
        "combinations(15, 3)"
      ],
      "metadata": {
        "colab": {
          "base_uri": "https://localhost:8080/"
        },
        "id": "sV0l1wtMyI0r",
        "outputId": "398fff69-9fcf-4c4c-861b-1476f1e11e63"
      },
      "execution_count": 7,
      "outputs": [
        {
          "output_type": "execute_result",
          "data": {
            "text/plain": [
              "455"
            ]
          },
          "metadata": {},
          "execution_count": 7
        }
      ]
    },
    {
      "cell_type": "code",
      "source": [
        "combinations(9, 3)"
      ],
      "metadata": {
        "colab": {
          "base_uri": "https://localhost:8080/"
        },
        "id": "L-3UsuPqyTvx",
        "outputId": "3fbb6c1e-10a9-4b89-f6b4-52b11933c5c7"
      },
      "execution_count": 8,
      "outputs": [
        {
          "output_type": "execute_result",
          "data": {
            "text/plain": [
              "84"
            ]
          },
          "metadata": {},
          "execution_count": 8
        }
      ]
    },
    {
      "cell_type": "code",
      "source": [
        "455 + 84"
      ],
      "metadata": {
        "colab": {
          "base_uri": "https://localhost:8080/"
        },
        "id": "EGKq4Qu_y4YG",
        "outputId": "462cfdd0-21db-4329-fa85-18a5563d6d68"
      },
      "execution_count": 9,
      "outputs": [
        {
          "output_type": "execute_result",
          "data": {
            "text/plain": [
              "539"
            ]
          },
          "metadata": {},
          "execution_count": 9
        }
      ]
    },
    {
      "cell_type": "markdown",
      "source": [
        "$$P(A) = \\frac{9}{15}*\\frac{8}{14}*\\frac{7}{13}=\\frac{12}{65}=0,1846$$"
      ],
      "metadata": {
        "id": "5iH7LAG9fg8E"
      }
    },
    {
      "cell_type": "markdown",
      "source": [
        "## Задание 4"
      ],
      "metadata": {
        "id": "6jjpObzM6LWi"
      }
    },
    {
      "cell_type": "markdown",
      "source": [
        "В лотерее 100 билетов. Из них 2 выигрышных. Какова вероятность того, что 2 приобретенных билета окажутся выигрышными?"
      ],
      "metadata": {
        "id": "4GBM0KfC6ZnD"
      }
    },
    {
      "cell_type": "code",
      "source": [
        "combinations(100, 2)"
      ],
      "metadata": {
        "colab": {
          "base_uri": "https://localhost:8080/"
        },
        "id": "1Ih-i7XEzSYL",
        "outputId": "ec87449b-07a1-4883-d886-b0b4ca4fe78c"
      },
      "execution_count": 10,
      "outputs": [
        {
          "output_type": "execute_result",
          "data": {
            "text/plain": [
              "4950"
            ]
          },
          "metadata": {},
          "execution_count": 10
        }
      ]
    },
    {
      "cell_type": "code",
      "source": [
        "combinations(2, 2)"
      ],
      "metadata": {
        "colab": {
          "base_uri": "https://localhost:8080/"
        },
        "id": "1KEUvGrozWya",
        "outputId": "fec439d7-79c6-46be-ea0b-e780dc5ab23b"
      },
      "execution_count": 11,
      "outputs": [
        {
          "output_type": "execute_result",
          "data": {
            "text/plain": [
              "1"
            ]
          },
          "metadata": {},
          "execution_count": 11
        }
      ]
    },
    {
      "cell_type": "code",
      "source": [
        "4950 + 1"
      ],
      "metadata": {
        "colab": {
          "base_uri": "https://localhost:8080/"
        },
        "id": "G_tZM1ybzbWB",
        "outputId": "34a4c3ca-0a61-42ed-f87f-4d29aadd2ed3"
      },
      "execution_count": 12,
      "outputs": [
        {
          "output_type": "execute_result",
          "data": {
            "text/plain": [
              "4951"
            ]
          },
          "metadata": {},
          "execution_count": 12
        }
      ]
    },
    {
      "cell_type": "markdown",
      "source": [
        "$$P(A) = \\frac{2}{100}*\\frac{1}{99}=\\frac{1}{4950}$$"
      ],
      "metadata": {
        "id": "bvaDws-Ef_MV"
      }
    },
    {
      "cell_type": "markdown",
      "source": [
        "## Задание 5"
      ],
      "metadata": {
        "id": "UL18JEoq6NHD"
      }
    },
    {
      "cell_type": "markdown",
      "source": [
        "На соревновании по биатлону один из трех спортсменов стреляет и попадает в мишень. Вероятность попадания для первого спортсмена равна 0.9, для второго — 0.8, для третьего — 0.6. Найти вероятность того, что выстрел произведен: a). первым спортсменом б). вторым спортсменом в). третьим спортсменом."
      ],
      "metadata": {
        "id": "OpnilTip6aYD"
      }
    },
    {
      "cell_type": "markdown",
      "source": [
        "Событием  A  будем считать попадание в мишень, а событиями  B1,B2  и  B3  — что выстрел совершил первый, второй или третий спортсмен:\n",
        "\n",
        "$$P(A\\:|\\:B_1) = 0.9$$\n",
        "\n",
        "$$P(A\\:|\\:B_2) = 0.8$$\n",
        "\n",
        "$$P(A\\:|\\:B_3) = 0.6$$"
      ],
      "metadata": {
        "id": "maP6z2XXz3Gj"
      }
    },
    {
      "cell_type": "markdown",
      "source": [
        "а)\n",
        "$$P(B_1\\:|\\:A) = \\frac{P(B_1) \\cdot P(A\\:|\\:B_1)}{P(A)}$$\n",
        "\n",
        "Априорная вероятность 1/3\n",
        "\n",
        "$$P(B_1\\:|\\:A) = \\frac{\\frac{1}{3} \\cdot 0.9}{\\frac{1}{3} \\cdot 0.9 + \\frac{1}{3} \\cdot 0.8 + \\frac{1}{3} \\cdot 0.6} = \\frac{9}{23}$$"
      ],
      "metadata": {
        "id": "S6c1utu50QT_"
      }
    },
    {
      "cell_type": "markdown",
      "source": [
        "б)\n",
        "\n",
        "$$P(B_2\\:|\\:A) = \\frac{\\frac{1}{3} \\cdot 0.8}{\\frac{1}{3} \\cdot 0.9 + \\frac{1}{3} \\cdot 0.8 + \\frac{1}{3} \\cdot 0.6} = \\frac{8}{23}$$"
      ],
      "metadata": {
        "id": "ZyqmN-xv3CQN"
      }
    },
    {
      "cell_type": "markdown",
      "source": [
        "в)\n",
        "\n",
        "$$P(B_3\\:|\\:A) = \\frac{\\frac{1}{3} \\cdot 0.6}{\\frac{1}{3} \\cdot 0.9 + \\frac{1}{3} \\cdot 0.8 + \\frac{1}{3} \\cdot 0.6} = \\frac{6}{23}$$"
      ],
      "metadata": {
        "id": "e9oe9Ztv3Wcn"
      }
    },
    {
      "cell_type": "markdown",
      "source": [
        "# Урок 2"
      ],
      "metadata": {
        "id": "tC4zLQaVlWS0"
      }
    },
    {
      "cell_type": "markdown",
      "source": [
        "## Задание 1"
      ],
      "metadata": {
        "id": "b-CT2_VHlY3n"
      }
    },
    {
      "cell_type": "markdown",
      "source": [
        "Вероятность того, что стрелок попадет в мишень, выстрелив один раз, равна 0.8. Стрелок выстрелил 100 раз. Найдите вероятность того, что стрелок попадет в цель ровно 85 раз."
      ],
      "metadata": {
        "id": "Gw6Cxx1-ll_6"
      }
    },
    {
      "cell_type": "code",
      "source": [
        "n = 100\n",
        "k = 85\n",
        "p = 8/10\n",
        "X = combinations(n, k) * (p ** k) * (1 - p) ** (n - k)\n",
        "X"
      ],
      "metadata": {
        "colab": {
          "base_uri": "https://localhost:8080/"
        },
        "id": "zHqLHT969Eyh",
        "outputId": "3e9d641b-840c-4f54-8ab1-608f56948f88"
      },
      "execution_count": 19,
      "outputs": [
        {
          "output_type": "execute_result",
          "data": {
            "text/plain": [
              "0.048061793700746355"
            ]
          },
          "metadata": {},
          "execution_count": 19
        }
      ]
    },
    {
      "cell_type": "markdown",
      "source": [
        "## Задание 2"
      ],
      "metadata": {
        "id": "bm2PF3M5ldR2"
      }
    },
    {
      "cell_type": "markdown",
      "source": [
        "Вероятность того, что лампочка перегорит в течение первого дня эксплуатации, равна 0.0004. В жилом комплексе после ремонта в один день включили 5000 новых лампочек. Какова вероятность, что ни одна из них не перегорит в первый день? Какова вероятность, что перегорят ровно две?"
      ],
      "metadata": {
        "id": "C5l2IRXjlpOG"
      }
    },
    {
      "cell_type": "code",
      "source": [
        "n = 5000\n",
        "m = 0\n",
        "p = 0.0004\n",
        "lambda_ = n * p\n",
        "\n",
        "(lambda_**m / np.math.factorial(m)) * np.exp(-lambda_)"
      ],
      "metadata": {
        "colab": {
          "base_uri": "https://localhost:8080/"
        },
        "id": "s5q7MbS07duG",
        "outputId": "21447af7-b104-4e54-966a-a4e999c1217b"
      },
      "execution_count": 14,
      "outputs": [
        {
          "output_type": "execute_result",
          "data": {
            "text/plain": [
              "0.1353352832366127"
            ]
          },
          "metadata": {},
          "execution_count": 14
        }
      ]
    },
    {
      "cell_type": "code",
      "source": [
        "n = 5000\n",
        "m = 2\n",
        "p = 0.0004\n",
        "lambda_ = n * p\n",
        "\n",
        "(lambda_**m / np.math.factorial(m)) * np.exp(-lambda_)"
      ],
      "metadata": {
        "colab": {
          "base_uri": "https://localhost:8080/"
        },
        "id": "e13jFftY8N_m",
        "outputId": "fd518360-fa6d-4f94-ea57-4389a46f4ea7"
      },
      "execution_count": 15,
      "outputs": [
        {
          "output_type": "execute_result",
          "data": {
            "text/plain": [
              "0.2706705664732254"
            ]
          },
          "metadata": {},
          "execution_count": 15
        }
      ]
    },
    {
      "cell_type": "markdown",
      "source": [
        "## Задание 3"
      ],
      "metadata": {
        "id": "1IW4G4RDlfTN"
      }
    },
    {
      "cell_type": "markdown",
      "source": [
        "Монету подбросили 144 раза. Какова вероятность, что орел выпадет ровно 70 раз?"
      ],
      "metadata": {
        "id": "x0-eL_FMlrwX"
      }
    },
    {
      "cell_type": "code",
      "source": [
        "n = 144\n",
        "k = 70\n",
        "p = 1/2\n",
        "X = combinations(n, k) * (p ** k) * (1 - p) ** (n - k)\n",
        "X"
      ],
      "metadata": {
        "colab": {
          "base_uri": "https://localhost:8080/"
        },
        "id": "FcUZhhkJ_7Ca",
        "outputId": "81bdf02f-6e1e-4b00-9a30-41263b1db522"
      },
      "execution_count": 18,
      "outputs": [
        {
          "output_type": "execute_result",
          "data": {
            "text/plain": [
              "0.06281178035144776"
            ]
          },
          "metadata": {},
          "execution_count": 18
        }
      ]
    },
    {
      "cell_type": "markdown",
      "source": [
        "## Задание 4"
      ],
      "metadata": {
        "id": "GmMZAsqfljZR"
      }
    },
    {
      "cell_type": "markdown",
      "source": [
        "В первом ящике находится 10 мячей, из которых 7 - белые. Во втором ящике - 11 мячей, из которых 9 белых. Из каждого ящика вытаскивают случайным образом по два мяча. Какова вероятность того, что все мячи белые? Какова вероятность того, что ровно два мяча белые? Какова вероятность того, что хотя бы один мяч белый?"
      ],
      "metadata": {
        "id": "lc-xtLYklwHj"
      }
    }
  ]
}